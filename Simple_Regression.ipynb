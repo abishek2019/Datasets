{
  "nbformat": 4,
  "nbformat_minor": 0,
  "metadata": {
    "colab": {
      "provenance": [],
      "collapsed_sections": [],
      "authorship_tag": "ABX9TyPoS+bGWkHYDiEHqS66q8MJ",
      "include_colab_link": true
    },
    "kernelspec": {
      "name": "python3",
      "display_name": "Python 3"
    },
    "language_info": {
      "name": "python"
    }
  },
  "cells": [
    {
      "cell_type": "markdown",
      "metadata": {
        "id": "view-in-github",
        "colab_type": "text"
      },
      "source": [
        "<a href=\"https://colab.research.google.com/github/abishek2019/Datasets/blob/main/Simple_Regression.ipynb\" target=\"_parent\"><img src=\"https://colab.research.google.com/assets/colab-badge.svg\" alt=\"Open In Colab\"/></a>"
      ]
    },
    {
      "cell_type": "code",
      "execution_count": 3,
      "metadata": {
        "colab": {
          "base_uri": "https://localhost:8080/",
          "height": 399
        },
        "id": "N76FHozy1BKS",
        "outputId": "872d1436-ec09-421c-d2a2-bdc55016217d"
      },
      "outputs": [
        {
          "output_type": "stream",
          "name": "stdout",
          "text": [
            "Params:  [-15682.27021631    115.41845202]\n",
            "Training RMSE: 64083.51.\n",
            "Training cost: 2053348364.32.\n",
            "Test RMSE: 65773.19.\n",
            "Test cost: 2163056355.39.\n"
          ]
        },
        {
          "output_type": "display_data",
          "data": {
            "text/plain": [
              "<Figure size 432x288 with 1 Axes>"
            ],
            "image/png": "[encoded data removed]"
          },
          "metadata": {
            "needs_background": "light"
          }
        },
        {
          "output_type": "display_data",
          "data": {
            "text/plain": [
              "<Figure size 432x288 with 0 Axes>"
            ]
          },
          "metadata": {}
        }
      ],
      "source": [
        "## Simple Regression Exercise\n",
        "\n",
        "import argparse\n",
        "import sys\n",
        "import pandas as pd\n",
        "\n",
        "import numpy as np\n",
        "from matplotlib import pyplot as plt\n",
        "\n",
        "\n",
        "# Read data matrix X and labels t from text file.\n",
        "def read_data(file_name):\n",
        "  if file_name == \"train.txt\":\n",
        "    link = \"https://raw.githubusercontent.com/abishek2019/Datasets/main/train.txt\"\n",
        "  else:\n",
        "    link = \"https://raw.githubusercontent.com/abishek2019/Datasets/main/test.txt\"\n",
        "  df = pd.read_csv(link, sep=\"    \", header = None,  names=[\"A\", \"B\"], engine = 'python')\n",
        "  X = np.array(df.A)\n",
        "  t = np.array(df.B)\n",
        "  return X, t\n",
        "\n",
        "\n",
        "# Implement simple linear regression to compute w = [w0, w1].\n",
        "def train(X, t):\n",
        "  sum_x_n = sum(X)\n",
        "  sum_t_n = sum(t)\n",
        "  sum_x_n2 = sum([pow(x, 2) for x in X])\n",
        "  sum_x_n_t_n = sum([X[i]* t[i] for i in range(len(X))])\n",
        "  A = np.array([[len(X), sum_x_n], [sum_x_n, sum_x_n2]])\n",
        "  b = np.array([sum_t_n, sum_x_n_t_n])\n",
        "  w = np.linalg.solve(A, b)\n",
        "  return w\n",
        "\n",
        "\n",
        "# Compute RMSE on dataset (X, t).\n",
        "def compute_rmse(X, t, w):\n",
        "  y_dash_array = [(w[0] + w[1] * X[i]) for i in range(len(X))]\n",
        "  sum_of_squares = sum([pow((y_dash_array[i] - t[i]), 2) for i in range(len(X))])\n",
        "  return np.sqrt((sum_of_squares / len(X)))\n",
        "\n",
        "\n",
        "# Compute objective function (cost) on dataset (X, t).\n",
        "def compute_cost(X, t, w):\n",
        "  y_dash_array = [(w[0] + w[1] * X[i]) for i in range(len(X))]\n",
        "  sum_of_squares = sum([pow((y_dash_array[i] - t[i]), 2) for i in range(len(X))])\n",
        "  return (sum_of_squares / (2 * len(X)))\n",
        "\n",
        "\n",
        "##======================= Main program =======================##\n",
        "# parser = argparse.ArgumentParser('Simple Regression Exercise.')\n",
        "# parser.add_argument('-i', '--input_data_dir',\n",
        "#                     type=str,\n",
        "#                     default='../data/simple',\n",
        "#                     help='Directory for the simple houses dataset.')\n",
        "# FLAGS, unparsed = parser.parse_known_args()\n",
        "\n",
        "# Read the training and test data.\n",
        "Xtrain, ttrain = read_data(\"train.txt\")\n",
        "Xtest, ttest = read_data(\"test.txt\")\n",
        "\n",
        "# Train model on training examples.\n",
        "w = train(Xtrain, ttrain)\n",
        "\n",
        "# Print model parameters.\n",
        "print('Params: ', w)\n",
        "\n",
        "# Print cost and RMSE on training data.\n",
        "print('Training RMSE: %0.2f.' % compute_rmse(Xtrain, ttrain, w))\n",
        "print('Training cost: %0.2f.' % compute_cost(Xtrain, ttrain, w))\n",
        "\n",
        "# Print cost and RMSE on test data.\n",
        "print('Test RMSE: %0.2f.' % compute_rmse(Xtest, ttest, w))\n",
        "print('Test cost: %0.2f.' % compute_cost(Xtest, ttest, w))\n",
        "\n",
        "#  YOUR CODE here: plot the training and test examples with different symbols,\n",
        "#                  plot the linear approximation on the same graph.\n",
        "x = np.concatenate([Xtrain, Xtest])\n",
        "y = [(w[0] + w[1] * x[i]) for i in range(len(x))]\n",
        "plt.scatter(Xtrain, ttrain, c = 'blue')\n",
        "plt.scatter(Xtest, ttest, c = 'green', marker = '^')\n",
        "plt.plot(x, y, color = 'red')\n",
        "plt.title('House Price Prediction')\n",
        "plt.xlabel('Floor Size')\n",
        "plt.ylabel('Price')\n",
        "plt.show()\n",
        "plt.savefig('train-test-line.png')\n"
      ]
    }
  ]
}